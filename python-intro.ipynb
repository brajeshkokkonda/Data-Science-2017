{
 "cells": [
  {
   "cell_type": "code",
   "execution_count": 4,
   "metadata": {
    "collapsed": false
   },
   "outputs": [
    {
     "name": "stdout",
     "output_type": "stream",
     "text": [
      "10 <type 'int'>\n",
      "20.35 <type 'float'>\n",
      "hello <type 'str'>\n",
      "True <type 'bool'>\n"
     ]
    }
   ],
   "source": [
    "#Intro to python\n",
    "x=10\n",
    "print x,type(x)\n",
    "\n",
    "x=20.35\n",
    "print x,type(x)\n",
    "\n",
    "x=\"hello\"\n",
    "print x,type(x)\n",
    "\n",
    "x=True\n",
    "print x,type(x)"
   ]
  },
  {
   "cell_type": "code",
   "execution_count": 6,
   "metadata": {
    "collapsed": false
   },
   "outputs": [
    {
     "data": {
      "image/png": "[encoded data removed]",
      "text/plain": [
       "<matplotlib.figure.Figure at 0x2670128>"
      ]
     },
     "metadata": {},
     "output_type": "display_data"
    }
   ],
   "source": [
    "import numpy as np\n",
    "import matplotlib.pyplot as plt\n",
    "\n",
    "# evenly sampled time at 200ms intervals\n",
    "t = np.arange(0., 5., 0.2)\n",
    "\n",
    "# red dashes, blue squares and green triangles\n",
    "plt.plot(t, t, 'r--', t, t**2, 'bs', t, t**3, 'g^')\n",
    "plt.show()"
   ]
  },
  {
   "cell_type": "code",
   "execution_count": 11,
   "metadata": {
    "collapsed": false
   },
   "outputs": [
    {
     "name": "stdout",
     "output_type": "stream",
     "text": [
      "[10, 20, 30, 40, 50]\n",
      "<type 'list'>\n",
      "[10.5, 'abc', True, 103]\n",
      "<type 'list'>\n",
      "[10, 20, 30, 40, 50, 5]\n",
      "[5, 10, 20, 30, 40, 50]\n"
     ]
    }
   ],
   "source": [
    "#python containers\n",
    "#intro to list\n",
    "list1=[10,20,30,40,50]\n",
    "print list1\n",
    "print type(list1)\n",
    "\n",
    "list2=[10.5,\"abc\",True,103]\n",
    "print list2\n",
    "print type(list2)\n",
    "\n",
    "#methods\n",
    "list1.append(5)\n",
    "print list1\n",
    "list1.sort()\n",
    "print list1\n"
   ]
  },
  {
   "cell_type": "code",
   "execution_count": null,
   "metadata": {
    "collapsed": true
   },
   "outputs": [],
   "source": []
  }
 ],
 "metadata": {
  "kernelspec": {
   "display_name": "Python 2",
   "language": "python",
   "name": "python2"
  },
  "language_info": {
   "codemirror_mode": {
    "name": "ipython",
    "version": 2
   },
   "file_extension": ".py",
   "mimetype": "text/x-python",
   "name": "python",
   "nbconvert_exporter": "python",
   "pygments_lexer": "ipython2",
   "version": "2.7.13"
  }
 },
 "nbformat": 4,
 "nbformat_minor": 2
}
